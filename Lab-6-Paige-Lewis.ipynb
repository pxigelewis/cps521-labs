{
 "cells": [
  {
   "cell_type": "markdown",
   "metadata": {},
   "source": [
    "### OR FUNCTION ###"
   ]
  },
  {
   "cell_type": "code",
   "execution_count": 1,
   "metadata": {},
   "outputs": [
    {
     "name": "stdout",
     "output_type": "stream",
     "text": [
      "Predicted OR for: [0 0] -> [0]\n",
      "Predicted OR for: [1 0] -> [1]\n",
      "Predicted OR for: [0 1] -> [1]\n",
      "Predicted OR for: [1 1] -> [1]\n"
     ]
    }
   ],
   "source": [
    "import numpy as np\n",
    "from sklearn.linear_model import Perceptron\n",
    "X = np.array([[0, 0], [0, 1], [1, 0], [1, 1]])\n",
    "Y = np.array([0, 1, 1, 1])\n",
    "clf = Perceptron(tol=1e-3, random_state=0)\n",
    "clf.fit(X, Y)\n",
    "x1 = np.array([0, 0])\n",
    "x2 = np.array([1, 0])\n",
    "x3 = np.array([0, 1])\n",
    "x4 = np.array([1, 1])\n",
    "predict_array = np.array([x1, x2, x3, x4])\n",
    "\n",
    "for n in predict_array:\n",
    "    predicted = clf.predict([n])\n",
    "    print(f\"Predicted OR for: {n} -> {predicted}\")\n",
    "    "
   ]
  },
  {
   "cell_type": "markdown",
   "metadata": {},
   "source": [
    "### AND FUNCTION ###"
   ]
  },
  {
   "cell_type": "code",
   "execution_count": 2,
   "metadata": {},
   "outputs": [
    {
     "name": "stdout",
     "output_type": "stream",
     "text": [
      "Predicted AND for: [0 0] -> [0]\n",
      "Predicted AND for: [1 0] -> [0]\n",
      "Predicted AND for: [0 1] -> [0]\n",
      "Predicted AND for: [1 1] -> [1]\n"
     ]
    }
   ],
   "source": [
    "X = np.array([[0, 0], [0, 1], [1, 0], [1, 1]])\n",
    "Y = np.array([0, 0, 0, 1])\n",
    "clf = Perceptron(tol=1e-3, random_state=0)\n",
    "clf.fit(X, Y)\n",
    "x1 = np.array([0, 0])\n",
    "x2 = np.array([1, 0])\n",
    "x3 = np.array([0, 1])\n",
    "x4 = np.array([1, 1])\n",
    "predict_array = np.array([x1, x2, x3, x4])\n",
    "\n",
    "for n in predict_array:\n",
    "    predicted = clf.predict([n])\n",
    "    print(f\"Predicted AND for: {n} -> {predicted}\")"
   ]
  },
  {
   "cell_type": "code",
   "execution_count": null,
   "metadata": {},
   "outputs": [],
   "source": []
  }
 ],
 "metadata": {
  "kernelspec": {
   "display_name": "Python 3",
   "language": "python",
   "name": "python3"
  },
  "language_info": {
   "codemirror_mode": {
    "name": "ipython",
    "version": 3
   },
   "file_extension": ".py",
   "mimetype": "text/x-python",
   "name": "python",
   "nbconvert_exporter": "python",
   "pygments_lexer": "ipython3",
   "version": "3.7.3"
  }
 },
 "nbformat": 4,
 "nbformat_minor": 5
}
